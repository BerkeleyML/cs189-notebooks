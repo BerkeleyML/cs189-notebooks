{
    "cells": [
        {
            "cell_type": "markdown",
            "metadata": {},
            "source": [
                "# [HW13] Problem: CNNs on Fruits and Veggies\n"
            ]
        },
        {
            "cell_type": "markdown",
            "metadata": {},
            "source": [
                "**STOP: This jupyter does not run on the datahub. Please download ALL the code and run locally or on Google colab.**\n",
                "\n",
                "If you are running it on the google colab, please run the following commands.\n",
                "\n",
                "Ignore this otherwise and go to the main code.\n"
            ]
        },
        {
            "cell_type": "code",
            "execution_count": null,
            "metadata": {},
            "outputs": [],
            "source": [
                "# First we need to mount your drive,\n",
                "# We assume you put the code at \"Colab Notebooks/prob2\"\n",
                "from google.colab import drive\n",
                "drive.mount('/content/drive/')\n"
            ]
        },
        {
            "cell_type": "code",
            "execution_count": null,
            "metadata": {},
            "outputs": [],
            "source": [
                "cd /content/drive/MyDrive/Colab\\ Notebooks/prob2\n"
            ]
        },
        {
            "cell_type": "code",
            "execution_count": null,
            "metadata": {},
            "outputs": [],
            "source": [
                "# Download the dataset at https://drive.google.com/file/d/1IEW0zW_37YQQ1Za5kyteu08y06EzIQgD/view\n",
                "# and also put it to the \"Colab Notebooks\" folder.\n",
                "# We will extract them and move them to the right place.\n",
                "import zipfile\n",
                "with zipfile.ZipFile(\"HW13_data.zip\", 'r') as zip_ref:\n",
                "    zip_ref.extractall(\"./\")\n"
            ]
        },
        {
            "cell_type": "code",
            "execution_count": null,
            "metadata": {},
            "outputs": [],
            "source": [
                "! mv HW13_data/train .\n",
                "! mv HW13_data/val .\n"
            ]
        },
        {
            "cell_type": "markdown",
            "metadata": {},
            "source": [
                "End of Colab setup.\n"
            ]
        },
        {
            "cell_type": "markdown",
            "metadata": {},
            "source": [
                "**Here starts the main code.**\n",
                "\n",
                "**If you are running locally, make sure you download the data and put \"train/\" and \"val/\" folders in the root directory.**\n",
                "\n",
                "Import necessary Python packages.\n",
                "\n",
                "In case you are missing libraries, you could run the following command to install them.\n",
                "\n",
                "    ! pip install opencv-python\n",
                "    ! pip install torch\n"
            ]
        },
        {
            "cell_type": "code",
            "execution_count": null,
            "metadata": {},
            "outputs": [],
            "source": [
                "from data_manager_pytorch import data_manager\n",
                "from cnn_pytorch import CNN\n",
                "from trainer_pytorch import Solver\n",
                "from viz_features_pytorch import Viz_Feat\n",
                "import random\n",
                "import matplotlib.pyplot as plt\n",
                "from confusion_mat_pytorch import Confusion_Matrix\n",
                "from nn_classifier import NN\n"
            ]
        },
        {
            "cell_type": "markdown",
            "metadata": {},
            "source": [
                "## Part (a)\n"
            ]
        },
        {
            "cell_type": "code",
            "execution_count": null,
            "metadata": {},
            "outputs": [],
            "source": [
                "random.seed(0)\n",
                "\n",
                "CLASS_LABELS = ['apple','banana','nectarine','plum','peach','watermelon','pear','mango','grape','orange','strawberry','pineapple',\n",
                "    'radish','carrot','potato','tomato','bellpepper','broccoli','cabbage','cauliflower','celery','eggplant','garlic','spinach','ginger']\n",
                "\n",
                "image_size = 90\n",
                "classes = CLASS_LABELS\n",
                "dm = data_manager(classes, image_size)\n",
                "\n",
                "cnn = CNN(classes,image_size)\n",
                "\n",
                "val_data = dm.val_data\n",
                "train_data = dm.train_data\n",
                "\n",
                "\n",
                "cm = Confusion_Matrix(val_data,train_data,CLASS_LABELS)\n",
                "\n",
                "cm.test_net(cnn)\n"
            ]
        },
        {
            "cell_type": "markdown",
            "metadata": {},
            "source": [
                "## Part (c)\n"
            ]
        },
        {
            "cell_type": "code",
            "execution_count": null,
            "metadata": {},
            "outputs": [],
            "source": [
                "solver = Solver(cnn,dm)\n",
                "solver.optimize()\n"
            ]
        },
        {
            "cell_type": "code",
            "execution_count": null,
            "metadata": {},
            "outputs": [],
            "source": [
                "plt.plot(solver.test_accuracy,label = 'Validation')\n",
                "plt.plot(solver.train_accuracy, label = 'Training')\n",
                "plt.legend()\n",
                "plt.xlabel('Iterations (in 200s)')\n",
                "plt.ylabel('Accuracy')\n",
                "plt.show()\n"
            ]
        },
        {
            "cell_type": "markdown",
            "metadata": {},
            "source": [
                "## Part (d)\n"
            ]
        },
        {
            "cell_type": "code",
            "execution_count": null,
            "metadata": {},
            "outputs": [],
            "source": [
                "val_data = dm.val_data\n",
                "train_data = dm.train_data\n",
                "\n",
                "cm = Viz_Feat(val_data,train_data,CLASS_LABELS)\n",
                "\n",
                "cm.vizualize_features(cnn)\n"
            ]
        },
        {
            "cell_type": "markdown",
            "metadata": {},
            "source": [
                "## Part (e)\n"
            ]
        },
        {
            "cell_type": "markdown",
            "metadata": {},
            "source": [
                "**STOP: Please change \"FLIPAUG = True\" in \"data_manager_pytorch.py\" before running the following code.**\n"
            ]
        },
        {
            "cell_type": "code",
            "execution_count": null,
            "metadata": {},
            "outputs": [],
            "source": [
                "solver = Solver(cnn,dm)\n",
                "solver.optimize()\n"
            ]
        },
        {
            "cell_type": "code",
            "execution_count": null,
            "metadata": {},
            "outputs": [],
            "source": [
                "plt.plot(solver.test_accuracy,label = 'Validation')\n",
                "plt.plot(solver.train_accuracy, label = 'Training')\n",
                "plt.legend()\n",
                "plt.xlabel('Iterations (in 200s)')\n",
                "plt.ylabel('Accuracy')\n",
                "plt.show()\n"
            ]
        },
        {
            "cell_type": "markdown",
            "metadata": {},
            "source": [
                "## Part (h)\n"
            ]
        },
        {
            "cell_type": "code",
            "execution_count": null,
            "metadata": {},
            "outputs": [],
            "source": [
                "K = [1, 20, 100]\n",
                "test_losses = []\n",
                "train_losses = []\n",
                "\n",
                "for k in K:\n",
                "\tprint(\"k is: {}\".format(k))\n",
                "\tnn = NN(train_data,val_data,n_neighbors=k)\n",
                "\n",
                "\tnn.train_model()\n",
                "\n",
                "\ttest_losses.append(nn.get_validation_error())\n",
                "\ttrain_losses.append(nn.get_train_error())\n",
                "\n",
                "\n",
                "\n",
                "\n",
                "plt.plot(K, test_losses,label = 'Validation')\n",
                "plt.plot(K, train_losses, label = 'Training')\n",
                "plt.legend()\n",
                "plt.xlabel('Number of Neighbors')\n",
                "plt.ylabel('Accuracy')\n",
                "plt.show()\n"
            ]
        }
    ],
    "metadata": {
        "kernelspec": {
            "display_name": "Python 3",
            "language": "python",
            "name": "python3"
        },
        "language_info": {
            "codemirror_mode": {
                "name": "ipython",
                "version": 3
            },
            "file_extension": ".py",
            "mimetype": "text/x-python",
            "name": "python",
            "nbconvert_exporter": "python",
            "pygments_lexer": "ipython3",
            "version": "3.6.3"
        }
    },
    "nbformat": 4,
    "nbformat_minor": 4
}