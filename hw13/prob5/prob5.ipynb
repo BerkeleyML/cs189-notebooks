{
    "cells": [
        {
            "cell_type": "code",
            "execution_count": null,
            "metadata": {},
            "outputs": [],
            "source": [
                "import numpy as np\n",
                "from sklearn.linear_model import LinearRegression\n",
                "import matplotlib.pyplot as plt\n"
            ]
        },
        {
            "cell_type": "markdown",
            "metadata": {},
            "source": [
                "The cell below plots the log of true generalization error and the log of our predicted error. Try different values of $n$ and $\\sigma$ and report how close our prediction is to the true error.\n"
            ]
        },
        {
            "cell_type": "code",
            "execution_count": null,
            "metadata": {},
            "outputs": [],
            "source": [
                "n = 70\n",
                "\n",
                "sigma = 1e1\n",
                "X = (np.ones(n) + sigma * np.random.randn(n))[:, np.newaxis]\n",
                "y = np.ones(n)\n",
                "reg = LinearRegression(fit_intercept=False)\n",
                "errs = []\n",
                "max_m = 10 * n\n",
                "for _ in range(max_m):\n",
                "    X = sigma * np.random.randn(n, _+1) + np.ones((n, _+1))\n",
                "    reg.fit(X, y)\n",
                "    errs += [(np.sum(reg.coef_) - 1.)**2 + sigma**2 * np.linalg.norm(reg.coef_)**2]\n",
                "\n",
                "fig = plt.figure(figsize=(20,10))\n",
                "plt.plot(np.log(errs), label='experiment')\n",
                "m = np.arange(n) + 1\n",
                "pred_err_upto_n = n * sigma**2/(m + sigma**2) /(n-m)\n",
                "pred_err_from_n = sigma**2 * (n**2 + np.arange(n+1, max_m+1) * sigma**2)/(n+sigma**2)**2 /(np.arange(n+1, max_m+1) - n)\n",
                "plt.plot(np.log(np.concatenate((pred_err_upto_n, pred_err_from_n))), label='theory')\n",
                "plt.axvline(x=n, label='m=n', c='black', linestyle='dashed')\n",
                "plt.axhline(y=2 * np.log(sigma**2/(n + sigma**2)), label='risk at m=$\\infty$', c='green', linestyle='dashed')\n",
                "plt.legend()\n"
            ]
        },
        {
            "cell_type": "code",
            "execution_count": null,
            "metadata": {},
            "outputs": [],
            "source": []
        }
    ],
    "metadata": {
        "kernelspec": {
            "display_name": "Python 3",
            "language": "python",
            "name": "python3"
        },
        "language_info": {
            "codemirror_mode": {
                "name": "ipython",
                "version": 3
            },
            "file_extension": ".py",
            "mimetype": "text/x-python",
            "name": "python",
            "nbconvert_exporter": "python",
            "pygments_lexer": "ipython3",
            "version": "3.7.4"
        }
    },
    "nbformat": 4,
    "nbformat_minor": 2
}