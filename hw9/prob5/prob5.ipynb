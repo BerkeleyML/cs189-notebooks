{
    "cells": [
        {
            "cell_type": "markdown",
            "metadata": {},
            "source": [
                "# [HW9] Problem 5: Regularized and Kernel k-Means\n",
                "\n",
                "## Part (e)\n",
                "\n",
                "For this part, we will try to gain more intuition on kernel k-means by running it on real examples and visualizing it. There is no code needed to be written, and you simply have to run the demo to find the \"best\" kernel and hyperparameters. Of course, you are welcome to add some code if it helps you automate the process.\n"
            ]
        },
        {
            "cell_type": "code",
            "execution_count": null,
            "metadata": {},
            "outputs": [],
            "source": [
                "%matplotlib inline\n",
                "\n",
                "import numpy as np\n",
                "import matplotlib.pyplot as plt\n",
                "import sklearn\n",
                "\n",
                "from sklearn.cluster import KMeans\n",
                "from kernel_k_means import KernelKMeans, plot_clusters, load_dataset\n"
            ]
        },
        {
            "cell_type": "markdown",
            "metadata": {},
            "source": [
                "We want to see how some kernels are more or less suitable for different datasets and structures we want to discover. In other words, given some initial guess of the data structure, we want to find the \"best\" kernel for k-means to clusters the data based on this structure. Typically, we use an unsupervised algorithm such as k-means to discover some underlying structures of the data which we do not have the ground truth information for. So \"best\" here is not clearly defined and is open to interpretation. Just use your own judgement based on the visualization.\n",
                "\n",
                "Follow the following steps and answer the questions (in bold). Then, repeat them for each of the three datasets (`'gaussian', 'circles', 'digits'`):\n",
                "1. Load and plot without ground truth labels.\n",
                "2. Guess the number of clusters. Run k-means with different kernels. Try different hyperparameters for each kernel.\n",
                "3. **Report the number of clusters you choose, the best kernel and its hyperparameters.**\n",
                "4. Now plot the data again with ground truth labels.\n",
                "5. **Does your conclusion in 3 change when you see the ground truth labels? If it does, what is your new guess on the best kernel and hyperparameters?**\n",
                "\n",
                "- Try `kernel` between `['linear', 'rbf', 'poly']`.\n",
                "- Linear kernel has no hyperparameter.\n",
                "- For RBF kernel, adjust `gamma` between 0.001 - 0.1.\n",
                "- For polynomial kernel, you can fix `gamma` and `coef0` and only change `degree` between 2 - 4.\n",
                "- Digits dataset is a dataset of grayscale images of digits from 0 to 9 where we reduce the dimension from 64 (8 by 8 pixels) to 2 by PCA for visualization and filter out some of the digits.\n"
            ]
        },
        {
            "cell_type": "markdown",
            "metadata": {},
            "source": [
                "(1) Load and plot the data without ground truth labels.\n"
            ]
        },
        {
            "cell_type": "code",
            "execution_count": null,
            "metadata": {},
            "outputs": [],
            "source": [
                "X, y = load_dataset('gaussian')\n",
                "# X, y = load_dataset('circles')\n",
                "# X, y = load_dataset('digits')\n",
                "\n",
                "# Plot ground truth without ground truth label\n",
                "plot_clusters(X, np.zeros(len(X)))\n"
            ]
        },
        {
            "cell_type": "markdown",
            "metadata": {},
            "source": [
                "(2) Guess the number of clusters. Run k-means with different kernels. Try different hyperparameters for each kernel.\n"
            ]
        },
        {
            "cell_type": "code",
            "execution_count": null,
            "metadata": {},
            "outputs": [],
            "source": [
                "n_clusters = 2\n",
                "kernel = 'linear'\n",
                "gamma = 0.1   # for RBF kernel\n",
                "degree = 2    # for polynomial kernel\n"
            ]
        },
        {
            "cell_type": "code",
            "execution_count": null,
            "metadata": {},
            "outputs": [],
            "source": [
                "kkm = KernelKMeans(n_clusters=n_clusters, max_iter=100, random_state=0,\n",
                "                   kernel=kernel, gamma=gamma, degree=degree)\n",
                "labels = kkm.fit_predict(X)\n",
                "plot_clusters(X, labels)\n"
            ]
        },
        {
            "cell_type": "markdown",
            "metadata": {},
            "source": [
                "(3) **Report the number of clusters you choose (`n_cluster`), the best kernel (`kernel`) and its hyperparameters (`gamma` or `degree`).**\n",
                "\n",
                "\n",
                "\n",
                "\n",
                "(4) Plot the data again with ground truth labels.\n"
            ]
        },
        {
            "cell_type": "code",
            "execution_count": null,
            "metadata": {},
            "outputs": [],
            "source": [
                "plot_clusters(X, y)\n"
            ]
        },
        {
            "cell_type": "markdown",
            "metadata": {},
            "source": [
                "(5) **Does your conclusion in 3 change when you see the ground truth labels? If it does, what is your new guess on the best kernel and hyperparameters?**\n",
                "\n",
                "Don't forget to repeat for all three datasets.\n"
            ]
        }
    ],
    "metadata": {
        "kernelspec": {
            "display_name": "Python 3",
            "language": "python",
            "name": "python3"
        },
        "language_info": {
            "codemirror_mode": {
                "name": "ipython",
                "version": 3
            },
            "file_extension": ".py",
            "mimetype": "text/x-python",
            "name": "python",
            "nbconvert_exporter": "python",
            "pygments_lexer": "ipython3",
            "version": "3.8.3"
        }
    },
    "nbformat": 4,
    "nbformat_minor": 4
}